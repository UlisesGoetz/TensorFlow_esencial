{
 "cells": [
  {
   "cell_type": "code",
   "execution_count": 6,
   "id": "4b0f57c9",
   "metadata": {},
   "outputs": [],
   "source": [
    "import tensorflow as tf"
   ]
  },
  {
   "cell_type": "code",
   "execution_count": 11,
   "id": "91b4a50a",
   "metadata": {},
   "outputs": [],
   "source": [
    "#entradas y relacion de los perceptrones \n",
    "a=tf.constant(7, name=\"input_a\") \n",
    "b=tf.constant(3, name=\"input_b\")\n",
    "c=tf.add(a,b, name=\"add_c\")\n",
    "d=tf.multiply(a,b, name=\"mul_d\")\n",
    "e=tf.add(c,d, name=\"add_e\")"
   ]
  },
  {
   "cell_type": "code",
   "execution_count": 20,
   "id": "876e2cbd",
   "metadata": {},
   "outputs": [
    {
     "name": "stdout",
     "output_type": "stream",
     "text": [
      "31\r\n"
     ]
    }
   ],
   "source": [
    "sess=tf.constant(e) #Corriendo el grafo, el resultado es la salida de \"e\"=31\n",
    "tf.print(sess)"
   ]
  },
  {
   "cell_type": "code",
   "execution_count": null,
   "id": "8bd8680c",
   "metadata": {},
   "outputs": [],
   "source": [
    "\n",
    "    "
   ]
  },
  {
   "cell_type": "code",
   "execution_count": null,
   "id": "88b5c35f",
   "metadata": {},
   "outputs": [],
   "source": []
  }
 ],
 "metadata": {
  "kernelspec": {
   "display_name": "Python 3",
   "language": "python",
   "name": "python3"
  },
  "language_info": {
   "codemirror_mode": {
    "name": "ipython",
    "version": 3
   },
   "file_extension": ".py",
   "mimetype": "text/x-python",
   "name": "python",
   "nbconvert_exporter": "python",
   "pygments_lexer": "ipython3",
   "version": "3.8.8"
  }
 },
 "nbformat": 4,
 "nbformat_minor": 5
}
