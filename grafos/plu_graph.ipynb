{
 "cells": [
  {
   "cell_type": "code",
   "execution_count": 1,
   "id": "b48d86fc",
   "metadata": {},
   "outputs": [
    {
     "name": "stdout",
     "output_type": "stream",
     "text": [
      "WARNING:tensorflow:From C:\\Users\\Mr.R\\anaconda3\\lib\\site-packages\\tensorflow\\python\\compat\\v2_compat.py:111: disable_resource_variables (from tensorflow.python.ops.variable_scope) is deprecated and will be removed in a future version.\n",
      "Instructions for updating:\n",
      "non-resource variables are not supported in the long term\n"
     ]
    }
   ],
   "source": [
    "import tensorflow.compat.v1 as tf\n",
    "tf.disable_v2_behavior() #Fincion del objeto tf para comportarse como su version 2 que contiene la funcion Session"
   ]
  },
  {
   "cell_type": "code",
   "execution_count": 6,
   "id": "59b96ad9",
   "metadata": {},
   "outputs": [
    {
     "name": "stdout",
     "output_type": "stream",
     "text": [
      "10\n"
     ]
    }
   ],
   "source": [
    "#Creando un grafo generico\n",
    "newGrafo=tf.Graph()\n",
    "with newGrafo.as_default():\n",
    "    a=tf.constant(3)\n",
    "    b=tf.constant(7)\n",
    "    suma=tf.add(a,b)\n",
    "    sess=tf.Session()\n",
    "    print(sess.run(suma))"
   ]
  },
  {
   "cell_type": "code",
   "execution_count": 31,
   "id": "d7bf4ec5",
   "metadata": {
    "scrolled": true
   },
   "outputs": [
    {
     "name": "stdout",
     "output_type": "stream",
     "text": [
      "17\n",
      "261\n"
     ]
    }
   ],
   "source": [
    "#llamar diferentes grafos con diferentes valores\n",
    "g1=tf.Graph()\n",
    "with newGrafo.as_default():\n",
    "    a=tf.constant(8)\n",
    "    b=tf.constant(9)\n",
    "    suma=tf.add(a,b)\n",
    "    sess=tf.Session()\n",
    "    print(sess.run(suma))\n",
    "    \n",
    "g2=tf.Graph()\n",
    "with newGrafo.as_default():\n",
    "    a=tf.add(8,12)\n",
    "    b=tf.constant(9)\n",
    "    suma=tf.add(a,b)\n",
    "    product=tf.multiply(b,suma)\n",
    "    \n",
    "    sess=tf.Session()\n",
    "    print(sess.run(product))"
   ]
  },
  {
   "cell_type": "code",
   "execution_count": null,
   "id": "d00dddbd",
   "metadata": {},
   "outputs": [],
   "source": [
    " "
   ]
  },
  {
   "cell_type": "code",
   "execution_count": null,
   "id": "9c4221ac",
   "metadata": {},
   "outputs": [],
   "source": []
  },
  {
   "cell_type": "code",
   "execution_count": null,
   "id": "40942446",
   "metadata": {},
   "outputs": [],
   "source": []
  },
  {
   "cell_type": "code",
   "execution_count": null,
   "id": "48a17731",
   "metadata": {},
   "outputs": [],
   "source": []
  }
 ],
 "metadata": {
  "kernelspec": {
   "display_name": "Python 3",
   "language": "python",
   "name": "python3"
  },
  "language_info": {
   "codemirror_mode": {
    "name": "ipython",
    "version": 3
   },
   "file_extension": ".py",
   "mimetype": "text/x-python",
   "name": "python",
   "nbconvert_exporter": "python",
   "pygments_lexer": "ipython3",
   "version": "3.8.8"
  }
 },
 "nbformat": 4,
 "nbformat_minor": 5
}
